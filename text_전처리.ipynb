{
  "cells": [
    {
      "cell_type": "markdown",
      "metadata": {
        "id": "view-in-github",
        "colab_type": "text"
      },
      "source": [
        "<a href=\"https://colab.research.google.com/github/lizardnote/NLP/blob/main/text_%EC%A0%84%EC%B2%98%EB%A6%AC.ipynb\" target=\"_parent\"><img src=\"https://colab.research.google.com/assets/colab-badge.svg\" alt=\"Open In Colab\"/></a>"
      ]
    },
    {
      "cell_type": "markdown",
      "id": "36fd1367",
      "metadata": {
        "id": "36fd1367"
      },
      "source": [
        "# 텍스트 데이터 전처리 실습 노트북\n",
        "30가지 기법을 실습하며 배우는 텍스트 정제"
      ]
    },
    {
      "cell_type": "code",
      "source": [
        "!pip install -U -q datasets huggingface_hub fsspec"
      ],
      "metadata": {
        "id": "3ZXaIijBT4Sw"
      },
      "id": "3ZXaIijBT4Sw",
      "execution_count": null,
      "outputs": []
    },
    {
      "cell_type": "markdown",
      "id": "f06614ab",
      "metadata": {
        "id": "f06614ab"
      },
      "source": [
        "## 📦 1. 데이터 불러오기 (IMDB)"
      ]
    },
    {
      "cell_type": "code",
      "execution_count": null,
      "id": "7b855ffb",
      "metadata": {
        "id": "7b855ffb"
      },
      "outputs": [],
      "source": [
        "from datasets import load_dataset\n",
        "dataset = load_dataset(\"stanfordnlp/imdb\") # https://huggingface.co/datasets/stanfordnlp/imdb\n",
        "text = dataset[\"train\"][0][\"text\"]\n"
      ]
    },
    {
      "cell_type": "code",
      "source": [
        "import json\n",
        "dataset[\"train\"]"
      ],
      "metadata": {
        "colab": {
          "base_uri": "https://localhost:8080/"
        },
        "id": "-qxsngZ2UE_0",
        "outputId": "be7592ed-e36b-42c0-fd6d-0f9cee4fbd62"
      },
      "id": "-qxsngZ2UE_0",
      "execution_count": null,
      "outputs": [
        {
          "output_type": "execute_result",
          "data": {
            "text/plain": [
              "Dataset({\n",
              "    features: ['text', 'label'],\n",
              "    num_rows: 25000\n",
              "})"
            ]
          },
          "metadata": {},
          "execution_count": 33
        }
      ]
    },
    {
      "cell_type": "markdown",
      "source": [
        "긍정1 부정 0"
      ],
      "metadata": {
        "id": "rXULHaMI8sFB"
      },
      "id": "rXULHaMI8sFB"
    },
    {
      "cell_type": "code",
      "source": [
        "dataset['train'][0]  #전체 출력, 구조가 text : 키로 이뤄져 있음"
      ],
      "metadata": {
        "colab": {
          "base_uri": "https://localhost:8080/"
        },
        "collapsed": true,
        "id": "U-Okfe3LV-fk",
        "outputId": "b7abbf4c-c5b4-40b7-e473-203de5c59e05"
      },
      "id": "U-Okfe3LV-fk",
      "execution_count": null,
      "outputs": [
        {
          "output_type": "execute_result",
          "data": {
            "text/plain": [
              "{'text': 'I rented I AM CURIOUS-YELLOW from my video store because of all the controversy that surrounded it when it was first released in 1967. I also heard that at first it was seized by U.S. customs if it ever tried to enter this country, therefore being a fan of films considered \"controversial\" I really had to see this for myself.<br /><br />The plot is centered around a young Swedish drama student named Lena who wants to learn everything she can about life. In particular she wants to focus her attentions to making some sort of documentary on what the average Swede thought about certain political issues such as the Vietnam War and race issues in the United States. In between asking politicians and ordinary denizens of Stockholm about their opinions on politics, she has sex with her drama teacher, classmates, and married men.<br /><br />What kills me about I AM CURIOUS-YELLOW is that 40 years ago, this was considered pornographic. Really, the sex and nudity scenes are few and far between, even then it\\'s not shot like some cheaply made porno. While my countrymen mind find it shocking, in reality sex and nudity are a major staple in Swedish cinema. Even Ingmar Bergman, arguably their answer to good old boy John Ford, had sex scenes in his films.<br /><br />I do commend the filmmakers for the fact that any sex shown in the film is shown for artistic purposes rather than just to shock people and make money to be shown in pornographic theaters in America. I AM CURIOUS-YELLOW is a good film for anyone wanting to study the meat and potatoes (no pun intended) of Swedish cinema. But really, this film doesn\\'t have much of a plot.',\n",
              " 'label': 0}"
            ]
          },
          "metadata": {},
          "execution_count": 34
        }
      ]
    },
    {
      "cell_type": "code",
      "source": [
        "dataset['train'][0]['text']  #text 키에 해당하는 값만 출력"
      ],
      "metadata": {
        "colab": {
          "base_uri": "https://localhost:8080/",
          "height": 236
        },
        "collapsed": true,
        "id": "-KRQjiKaV4Xc",
        "outputId": "20e5de73-d48a-459d-efe9-343a1659b5d0"
      },
      "id": "-KRQjiKaV4Xc",
      "execution_count": null,
      "outputs": [
        {
          "output_type": "execute_result",
          "data": {
            "text/plain": [
              "'I rented I AM CURIOUS-YELLOW from my video store because of all the controversy that surrounded it when it was first released in 1967. I also heard that at first it was seized by U.S. customs if it ever tried to enter this country, therefore being a fan of films considered \"controversial\" I really had to see this for myself.<br /><br />The plot is centered around a young Swedish drama student named Lena who wants to learn everything she can about life. In particular she wants to focus her attentions to making some sort of documentary on what the average Swede thought about certain political issues such as the Vietnam War and race issues in the United States. In between asking politicians and ordinary denizens of Stockholm about their opinions on politics, she has sex with her drama teacher, classmates, and married men.<br /><br />What kills me about I AM CURIOUS-YELLOW is that 40 years ago, this was considered pornographic. Really, the sex and nudity scenes are few and far between, even then it\\'s not shot like some cheaply made porno. While my countrymen mind find it shocking, in reality sex and nudity are a major staple in Swedish cinema. Even Ingmar Bergman, arguably their answer to good old boy John Ford, had sex scenes in his films.<br /><br />I do commend the filmmakers for the fact that any sex shown in the film is shown for artistic purposes rather than just to shock people and make money to be shown in pornographic theaters in America. I AM CURIOUS-YELLOW is a good film for anyone wanting to study the meat and potatoes (no pun intended) of Swedish cinema. But really, this film doesn\\'t have much of a plot.'"
            ],
            "application/vnd.google.colaboratory.intrinsic+json": {
              "type": "string"
            }
          },
          "metadata": {},
          "execution_count": 35
        }
      ]
    },
    {
      "cell_type": "code",
      "source": [
        "print(text)"
      ],
      "metadata": {
        "colab": {
          "base_uri": "https://localhost:8080/"
        },
        "id": "EIXSrW5_UEZq",
        "outputId": "47034b27-1923-45da-e268-171b1983be53"
      },
      "id": "EIXSrW5_UEZq",
      "execution_count": null,
      "outputs": [
        {
          "output_type": "stream",
          "name": "stdout",
          "text": [
            "I rented I AM CURIOUS-YELLOW from my video store because of all the controversy that surrounded it when it was first released in 1967. I also heard that at first it was seized by U.S. customs if it ever tried to enter this country, therefore being a fan of films considered \"controversial\" I really had to see this for myself.<br /><br />The plot is centered around a young Swedish drama student named Lena who wants to learn everything she can about life. In particular she wants to focus her attentions to making some sort of documentary on what the average Swede thought about certain political issues such as the Vietnam War and race issues in the United States. In between asking politicians and ordinary denizens of Stockholm about their opinions on politics, she has sex with her drama teacher, classmates, and married men.<br /><br />What kills me about I AM CURIOUS-YELLOW is that 40 years ago, this was considered pornographic. Really, the sex and nudity scenes are few and far between, even then it's not shot like some cheaply made porno. While my countrymen mind find it shocking, in reality sex and nudity are a major staple in Swedish cinema. Even Ingmar Bergman, arguably their answer to good old boy John Ford, had sex scenes in his films.<br /><br />I do commend the filmmakers for the fact that any sex shown in the film is shown for artistic purposes rather than just to shock people and make money to be shown in pornographic theaters in America. I AM CURIOUS-YELLOW is a good film for anyone wanting to study the meat and potatoes (no pun intended) of Swedish cinema. But really, this film doesn't have much of a plot.\n"
          ]
        }
      ]
    },
    {
      "cell_type": "markdown",
      "id": "3c5db046",
      "metadata": {
        "id": "3c5db046"
      },
      "source": [
        "## 🔹 텍스트 전처리 개요\n",
        "- 텍스트 전처리는 자연어 처리(NLP)에서 모델 학습을 위한 데이터 품질을 높이는 핵심 전 단계입니다.\n",
        "- 정제된 텍스트는 노이즈를 줄이고 모델의 일반화 성능을 향상시킵니다.\n",
        "- 응용 분야: 감성 분석, 챗봇, 기계번역, 요약 등 다양한 NLP Task\n",
        "\n",
        "📌 예시: 예시: 'I LoVe this movie!!! 😍😍😍' → 'i love this movie'"
      ]
    },
    {
      "cell_type": "markdown",
      "id": "98dc4182",
      "metadata": {
        "id": "98dc4182"
      },
      "source": [
        "## 🔹 전처리 파이프라인\n",
        "- 일반적인 순서: 텍스트 수집 → 정제 → 정규화 → 토큰화 → 정렬 및 저장\n",
        "- 파이프라인 구성은 도메인(의료, SNS, 뉴스 등)에 따라 달라질 수 있음\n",
        "\n",
        "📌 예시: IMDB 리뷰 → 소문자화 → 구두점 제거 → 불용어 제거 → Stemming → Token화"
      ]
    },
    {
      "cell_type": "markdown",
      "id": "fb9e2fbe",
      "metadata": {
        "id": "fb9e2fbe"
      },
      "source": [
        "## 🔹 소문자화 (Lowercasing)\n",
        "- 대문자/소문자 구분을 없애 단어 형태 통일\n",
        "- 특히 영어권 언어에서는 필수 전처리 단계\n",
        "- 예외 상황: 고유명사 식별이 중요한 Task에선 사용하지 않기도 함\n",
        "\n",
        "📌 예시: 'Apple is great.' → 'apple is great.'"
      ]
    },
    {
      "cell_type": "code",
      "source": [
        "text.lower()"
      ],
      "metadata": {
        "colab": {
          "base_uri": "https://localhost:8080/",
          "height": 236
        },
        "id": "t30Q3zYkW9_4",
        "outputId": "e31b85c6-18a2-4708-893d-28368eb080e8"
      },
      "id": "t30Q3zYkW9_4",
      "execution_count": null,
      "outputs": [
        {
          "output_type": "execute_result",
          "data": {
            "text/plain": [
              "'i rented i am curious-yellow from my video store because of all the controversy that surrounded it when it was first released in 1967. i also heard that at first it was seized by u.s. customs if it ever tried to enter this country, therefore being a fan of films considered \"controversial\" i really had to see this for myself.<br /><br />the plot is centered around a young swedish drama student named lena who wants to learn everything she can about life. in particular she wants to focus her attentions to making some sort of documentary on what the average swede thought about certain political issues such as the vietnam war and race issues in the united states. in between asking politicians and ordinary denizens of stockholm about their opinions on politics, she has sex with her drama teacher, classmates, and married men.<br /><br />what kills me about i am curious-yellow is that 40 years ago, this was considered pornographic. really, the sex and nudity scenes are few and far between, even then it\\'s not shot like some cheaply made porno. while my countrymen mind find it shocking, in reality sex and nudity are a major staple in swedish cinema. even ingmar bergman, arguably their answer to good old boy john ford, had sex scenes in his films.<br /><br />i do commend the filmmakers for the fact that any sex shown in the film is shown for artistic purposes rather than just to shock people and make money to be shown in pornographic theaters in america. i am curious-yellow is a good film for anyone wanting to study the meat and potatoes (no pun intended) of swedish cinema. but really, this film doesn\\'t have much of a plot.'"
            ],
            "application/vnd.google.colaboratory.intrinsic+json": {
              "type": "string"
            }
          },
          "metadata": {},
          "execution_count": 37
        }
      ]
    },
    {
      "cell_type": "code",
      "execution_count": null,
      "id": "01a55553",
      "metadata": {
        "colab": {
          "base_uri": "https://localhost:8080/",
          "height": 236
        },
        "id": "01a55553",
        "outputId": "19d42e9c-cbcc-4092-d95f-418d90fcddf2"
      },
      "outputs": [
        {
          "output_type": "execute_result",
          "data": {
            "text/plain": [
              "'I rented I AM CURIOUSYELLOW from my video store because of all the controversy that surrounded it when it was first released in 1967 I also heard that at first it was seized by US customs if it ever tried to enter this country therefore being a fan of films considered controversial I really had to see this for myselfbr br The plot is centered around a young Swedish drama student named Lena who wants to learn everything she can about life In particular she wants to focus her attentions to making some sort of documentary on what the average Swede thought about certain political issues such as the Vietnam War and race issues in the United States In between asking politicians and ordinary denizens of Stockholm about their opinions on politics she has sex with her drama teacher classmates and married menbr br What kills me about I AM CURIOUSYELLOW is that 40 years ago this was considered pornographic Really the sex and nudity scenes are few and far between even then its not shot like some cheaply made porno While my countrymen mind find it shocking in reality sex and nudity are a major staple in Swedish cinema Even Ingmar Bergman arguably their answer to good old boy John Ford had sex scenes in his filmsbr br I do commend the filmmakers for the fact that any sex shown in the film is shown for artistic purposes rather than just to shock people and make money to be shown in pornographic theaters in America I AM CURIOUSYELLOW is a good film for anyone wanting to study the meat and potatoes no pun intended of Swedish cinema But really this film doesnt have much of a plot'"
            ],
            "application/vnd.google.colaboratory.intrinsic+json": {
              "type": "string"
            }
          },
          "metadata": {},
          "execution_count": 38
        }
      ],
      "source": [
        "import re\n",
        "re.sub(r'[^\\w\\s]', '', text)\n",
        "\n",
        "#정규식 공부하자.. 많이 쓰이겠다. 공백이 아닌"
      ]
    },
    {
      "cell_type": "markdown",
      "source": [
        "** 정규표현식 연습 **\n",
        "\n",
        "| 함수             | 설명                      | 예시                                 |\n",
        "| -------------- | ----------------------- | ---------------------------------- |\n",
        "| `re.search()`  | 문자열 중 **처음 매칭되는 패턴** 찾기 | `re.search(r'\\d+', 'abc123')`      |\n",
        "| `re.findall()` | **모든 매칭 항목** 리스트로 반환    | `re.findall(r'\\d+', 'abc123 456')` |\n",
        "| `re.sub()`     | 패턴 찾아서 **치환(바꾸기)**      | `re.sub(r'\\d', '', 'abc123')`      |\n",
        "| `re.split()`   | 패턴 기준으로 문자열 **쪼개기**     | `re.split(r'\\s+', 'a b  c')`       |\n",
        "| `re.match()`   | 문자열 **처음부터** 일치 확인      | `re.match(r'abc', 'abcdef')`       |\n"
      ],
      "metadata": {
        "id": "PyVq-bfbYqAX"
      },
      "id": "PyVq-bfbYqAX"
    },
    {
      "cell_type": "code",
      "source": [
        "import re\n",
        "# text = \"오늘은 2025년 6월 18일입니다.\"\n",
        "# number = re.findall(r'\\d+', text) #뒤에는 대상 텍스트\n",
        "# print(number)\n",
        "\n",
        "# #한글만 추출\n",
        "# text = \"Hello! 나는 GPT야. 만나서 반가워 :)\"\n",
        "# word = re.findall(r'[가-힣a-zA-Z]+', text)\n",
        "# print(word)\n",
        "\n",
        "# text = \"문의: gpt@openai.com, 연락: help@site.kr\"\n",
        "# mail = re.findall(r'[a-zA-Z0-9._%+-]+@[a-zA-Z0-9._]+[a-zA-Z]{2,}', text)\n",
        "# print(mail)\n",
        "\n",
        "# text = \"Hello! GPT@OpenAI#2025 :)\"  #특수문자 제거하고 텍스트만\n",
        "# word = re.findall(r'[a-zA-Z가-힣0-9]+', text)\n",
        "# print(word)\n",
        "\n",
        "# text = \"내 번호는 010-1234-5678이고, 친구는 011-567-1234야.\"\n",
        "# num = re.findall(r'010-\\d{4}-\\d{4}',text)\n",
        "# num"
      ],
      "metadata": {
        "id": "er9QZTcIYsGB"
      },
      "id": "er9QZTcIYsGB",
      "execution_count": null,
      "outputs": []
    },
    {
      "cell_type": "markdown",
      "id": "a3fe6b4f",
      "metadata": {
        "id": "a3fe6b4f"
      },
      "source": [
        "## 🔹 불용어 제거 (Stopwords)\n",
        "- 불용어는 'the', 'is', 'and'와 같이 자주 등장하지만 정보량이 적은 단어들\n",
        "- 대부분의 NLP 라이브러리(nltk, spaCy)에서 지원\n",
        "- 불용어 제거는 토픽 모델링, 문서 분류 등에서 유용\n",
        "\n",
        "📌 예시: 'this is a good movie' → 'good movie'"
      ]
    },
    {
      "cell_type": "code",
      "source": [
        ">>> import nltk\n",
        ">>> nltk.download('stopwords')"
      ],
      "metadata": {
        "colab": {
          "base_uri": "https://localhost:8080/"
        },
        "id": "2yTe3EquU2mO",
        "outputId": "4d25ccfc-a3a3-49ab-f8cf-d883fb367ab6"
      },
      "id": "2yTe3EquU2mO",
      "execution_count": null,
      "outputs": [
        {
          "output_type": "stream",
          "name": "stderr",
          "text": [
            "[nltk_data] Downloading package stopwords to /root/nltk_data...\n",
            "[nltk_data]   Package stopwords is already up-to-date!\n"
          ]
        },
        {
          "output_type": "execute_result",
          "data": {
            "text/plain": [
              "True"
            ]
          },
          "metadata": {},
          "execution_count": 40
        }
      ]
    },
    {
      "cell_type": "code",
      "source": [
        "# sample = 'this is a book on the table'\n",
        "# word = sample.split()\n",
        "\n",
        "# stop_words = set(stopwords.words('english'))\n",
        "\n",
        "# #lower() 기준으로 불용어에 없는 단어면 []에 저장\n",
        "# filter = [i for i in word if i.lower() not in stop_words]\n",
        "# filter\n"
      ],
      "metadata": {
        "collapsed": true,
        "id": "g1z8dJp4KfXy"
      },
      "id": "g1z8dJp4KfXy",
      "execution_count": null,
      "outputs": []
    },
    {
      "cell_type": "code",
      "source": [
        "from nltk.corpus import stopwords\n",
        "\n",
        "#영어에서 자주 쓰여서 분석에 큰 의미 없는 단어 리스트를 반환-집합으로 묶어서\n",
        "stop_words = set(\n",
        "    stopwords.words('english'))\n",
        "stop_words"
      ],
      "metadata": {
        "colab": {
          "base_uri": "https://localhost:8080/"
        },
        "id": "aJ3nOSHXUuk9",
        "outputId": "856b3534-252e-4429-b690-3b6ceeee442c"
      },
      "id": "aJ3nOSHXUuk9",
      "execution_count": null,
      "outputs": [
        {
          "output_type": "execute_result",
          "data": {
            "text/plain": [
              "{'a',\n",
              " 'about',\n",
              " 'above',\n",
              " 'after',\n",
              " 'again',\n",
              " 'against',\n",
              " 'ain',\n",
              " 'all',\n",
              " 'am',\n",
              " 'an',\n",
              " 'and',\n",
              " 'any',\n",
              " 'are',\n",
              " 'aren',\n",
              " \"aren't\",\n",
              " 'as',\n",
              " 'at',\n",
              " 'be',\n",
              " 'because',\n",
              " 'been',\n",
              " 'before',\n",
              " 'being',\n",
              " 'below',\n",
              " 'between',\n",
              " 'both',\n",
              " 'but',\n",
              " 'by',\n",
              " 'can',\n",
              " 'couldn',\n",
              " \"couldn't\",\n",
              " 'd',\n",
              " 'did',\n",
              " 'didn',\n",
              " \"didn't\",\n",
              " 'do',\n",
              " 'does',\n",
              " 'doesn',\n",
              " \"doesn't\",\n",
              " 'doing',\n",
              " 'don',\n",
              " \"don't\",\n",
              " 'down',\n",
              " 'during',\n",
              " 'each',\n",
              " 'few',\n",
              " 'for',\n",
              " 'from',\n",
              " 'further',\n",
              " 'had',\n",
              " 'hadn',\n",
              " \"hadn't\",\n",
              " 'has',\n",
              " 'hasn',\n",
              " \"hasn't\",\n",
              " 'have',\n",
              " 'haven',\n",
              " \"haven't\",\n",
              " 'having',\n",
              " 'he',\n",
              " \"he'd\",\n",
              " \"he'll\",\n",
              " \"he's\",\n",
              " 'her',\n",
              " 'here',\n",
              " 'hers',\n",
              " 'herself',\n",
              " 'him',\n",
              " 'himself',\n",
              " 'his',\n",
              " 'how',\n",
              " 'i',\n",
              " \"i'd\",\n",
              " \"i'll\",\n",
              " \"i'm\",\n",
              " \"i've\",\n",
              " 'if',\n",
              " 'in',\n",
              " 'into',\n",
              " 'is',\n",
              " 'isn',\n",
              " \"isn't\",\n",
              " 'it',\n",
              " \"it'd\",\n",
              " \"it'll\",\n",
              " \"it's\",\n",
              " 'its',\n",
              " 'itself',\n",
              " 'just',\n",
              " 'll',\n",
              " 'm',\n",
              " 'ma',\n",
              " 'me',\n",
              " 'mightn',\n",
              " \"mightn't\",\n",
              " 'more',\n",
              " 'most',\n",
              " 'mustn',\n",
              " \"mustn't\",\n",
              " 'my',\n",
              " 'myself',\n",
              " 'needn',\n",
              " \"needn't\",\n",
              " 'no',\n",
              " 'nor',\n",
              " 'not',\n",
              " 'now',\n",
              " 'o',\n",
              " 'of',\n",
              " 'off',\n",
              " 'on',\n",
              " 'once',\n",
              " 'only',\n",
              " 'or',\n",
              " 'other',\n",
              " 'our',\n",
              " 'ours',\n",
              " 'ourselves',\n",
              " 'out',\n",
              " 'over',\n",
              " 'own',\n",
              " 're',\n",
              " 's',\n",
              " 'same',\n",
              " 'shan',\n",
              " \"shan't\",\n",
              " 'she',\n",
              " \"she'd\",\n",
              " \"she'll\",\n",
              " \"she's\",\n",
              " 'should',\n",
              " \"should've\",\n",
              " 'shouldn',\n",
              " \"shouldn't\",\n",
              " 'so',\n",
              " 'some',\n",
              " 'such',\n",
              " 't',\n",
              " 'than',\n",
              " 'that',\n",
              " \"that'll\",\n",
              " 'the',\n",
              " 'their',\n",
              " 'theirs',\n",
              " 'them',\n",
              " 'themselves',\n",
              " 'then',\n",
              " 'there',\n",
              " 'these',\n",
              " 'they',\n",
              " \"they'd\",\n",
              " \"they'll\",\n",
              " \"they're\",\n",
              " \"they've\",\n",
              " 'this',\n",
              " 'those',\n",
              " 'through',\n",
              " 'to',\n",
              " 'too',\n",
              " 'under',\n",
              " 'until',\n",
              " 'up',\n",
              " 've',\n",
              " 'very',\n",
              " 'was',\n",
              " 'wasn',\n",
              " \"wasn't\",\n",
              " 'we',\n",
              " \"we'd\",\n",
              " \"we'll\",\n",
              " \"we're\",\n",
              " \"we've\",\n",
              " 'were',\n",
              " 'weren',\n",
              " \"weren't\",\n",
              " 'what',\n",
              " 'when',\n",
              " 'where',\n",
              " 'which',\n",
              " 'while',\n",
              " 'who',\n",
              " 'whom',\n",
              " 'why',\n",
              " 'will',\n",
              " 'with',\n",
              " 'won',\n",
              " \"won't\",\n",
              " 'wouldn',\n",
              " \"wouldn't\",\n",
              " 'y',\n",
              " 'you',\n",
              " \"you'd\",\n",
              " \"you'll\",\n",
              " \"you're\",\n",
              " \"you've\",\n",
              " 'your',\n",
              " 'yours',\n",
              " 'yourself',\n",
              " 'yourselves'}"
            ]
          },
          "metadata": {},
          "execution_count": 42
        }
      ]
    },
    {
      "cell_type": "code",
      "execution_count": null,
      "id": "e0b059de",
      "metadata": {
        "colab": {
          "base_uri": "https://localhost:8080/"
        },
        "id": "e0b059de",
        "outputId": "26d2f528-86e6-42b8-a7b9-766e085cf847"
      },
      "outputs": [
        {
          "output_type": "execute_result",
          "data": {
            "text/plain": [
              "['rented',\n",
              " 'CURIOUS-YELLOW',\n",
              " 'video',\n",
              " 'store',\n",
              " 'controversy',\n",
              " 'surrounded',\n",
              " 'first',\n",
              " 'released',\n",
              " '1967.',\n",
              " 'also',\n",
              " 'heard',\n",
              " 'first',\n",
              " 'seized',\n",
              " 'U.S.',\n",
              " 'customs',\n",
              " 'ever',\n",
              " 'tried',\n",
              " 'enter',\n",
              " 'country,',\n",
              " 'therefore']"
            ]
          },
          "metadata": {},
          "execution_count": 43
        }
      ],
      "source": [
        "tokens = [w for w in text.split() if w.lower() not in stop_words]  #불용어에 없는 단어들이면 토큰 리스트에 저장\n",
        "tokens[:20]"
      ]
    },
    {
      "cell_type": "code",
      "source": [
        "# #구두점도 제거하고 싶다면\n",
        "\n",
        "# import re\n",
        "\n",
        "# sample2 = \"This is a sample sentence, showing off the stop words filtration.\"\n",
        "\n",
        "# #re.sub(패턴, 바꿀_문자열, 대상_문자) 역할은 문자 치환\n",
        "# sample2 = re.sub(r'[^\\w\\s]', '', sample2.lower())\n",
        "# word_sam = sample2.split()\n",
        "\n",
        "# filter_sam = [i for i in word_sam if i.lower() not in stop_words]\n",
        "# filter_sam"
      ],
      "metadata": {
        "id": "hsj6tjgeLzPx"
      },
      "id": "hsj6tjgeLzPx",
      "execution_count": null,
      "outputs": []
    },
    {
      "cell_type": "code",
      "source": [
        "# import re\n",
        "\n",
        "# sample2 = \"This is a sample sentence, showing off the stop words filtration.\"\n",
        "# # sample2 = re.sub(r'[^\\w\\s]', '', sample2.lower())\n",
        "# word_sam = sample2.split()\n",
        "# filter_sam = [i for i in word_sam if i.lower() not in stop_words]\n",
        "# filter_sam"
      ],
      "metadata": {
        "id": "NgAsF_KZMswd"
      },
      "id": "NgAsF_KZMswd",
      "execution_count": null,
      "outputs": []
    },
    {
      "cell_type": "markdown",
      "id": "4534baae",
      "metadata": {
        "id": "4534baae"
      },
      "source": [
        "## 🔹 불균형 단어 제거 (빈도 기반)\n",
        "- 전체 코퍼스에서 너무 자주 혹은 너무 드물게 등장하는 단어 제거\n",
        "- 적용 Task: BoW, TF-IDF 기반 분류, 토픽 모델링 등\n",
        "- 하위 5% 미만, 상위 1% 초과 등 통계 기반 기준 활용\n",
        "\n",
        "📌 예시: 빈도가 높은 'movie', 'film', 낮은 'xyzabc123' 제거\n",
        "\n",
        "단 Counter는 구두점 제거가 안된다. test와 test.는 다른 단어로 취급"
      ]
    },
    {
      "cell_type": "code",
      "source": [
        "from collections import Counter\n",
        "words = text.split()\n",
        "print(words[:20])\n"
      ],
      "metadata": {
        "colab": {
          "base_uri": "https://localhost:8080/"
        },
        "id": "Lt7fMrWdVK9k",
        "outputId": "37323890-1cc0-4256-c944-0e525bf3c731"
      },
      "id": "Lt7fMrWdVK9k",
      "execution_count": null,
      "outputs": [
        {
          "output_type": "stream",
          "name": "stdout",
          "text": [
            "['I', 'rented', 'I', 'AM', 'CURIOUS-YELLOW', 'from', 'my', 'video', 'store', 'because', 'of', 'all', 'the', 'controversy', 'that', 'surrounded', 'it', 'when', 'it', 'was']\n"
          ]
        }
      ]
    },
    {
      "cell_type": "code",
      "execution_count": null,
      "id": "8acc7fcf",
      "metadata": {
        "colab": {
          "base_uri": "https://localhost:8080/"
        },
        "id": "8acc7fcf",
        "outputId": "28f8003b-ec3f-4acb-8a8e-84b19a02810c"
      },
      "outputs": [
        {
          "output_type": "execute_result",
          "data": {
            "text/plain": [
              "['I',\n",
              " 'I',\n",
              " 'of',\n",
              " 'the',\n",
              " 'in',\n",
              " 'I',\n",
              " 'to',\n",
              " 'of',\n",
              " 'I',\n",
              " 'to',\n",
              " 'to',\n",
              " 'to',\n",
              " 'to',\n",
              " 'of',\n",
              " 'the',\n",
              " 'the',\n",
              " 'and',\n",
              " 'in',\n",
              " 'the',\n",
              " 'and']"
            ]
          },
          "metadata": {},
          "execution_count": 47
        }
      ],
      "source": [
        "freq = Counter(words)\n",
        "filtered = [w for w in words if freq[w] > 5 ]\n",
        "filtered[:20]"
      ]
    },
    {
      "cell_type": "code",
      "source": [
        "# #구두점 제거를 같이 해본다면\n",
        "# import re\n",
        "# from collections import Counter\n",
        "\n",
        "# text = text.lower()\n",
        "# text = re.sub(r'[^\\w\\s]', '', text)\n",
        "\n",
        "# words = text.split()\n",
        "# count = Counter(words)\n",
        "# print(count.most_common(10))"
      ],
      "metadata": {
        "id": "Vy07asGcPxWs"
      },
      "id": "Vy07asGcPxWs",
      "execution_count": null,
      "outputs": []
    },
    {
      "cell_type": "markdown",
      "id": "58a585c0",
      "metadata": {
        "id": "58a585c0"
      },
      "source": [
        "## 🔹 Stemming (어간 추출)\n",
        "- 단어에서 접미어 제거하여 어근으로 환원 (예: playing → play)\n",
        "- PorterStemmer, LancasterStemmer 등이 대표적\n",
        "- 의미 보존보다 형태 통일 목적\n",
        "\n",
        "📌 예시: 'running', 'runner', 'ran' → 'run'"
      ]
    },
    {
      "cell_type": "markdown",
      "source": [
        "포터스테머 --> 성능이 별로 높지 않음\n",
        "\n",
        "그럼 언제 유리할까?\n",
        "- 속도가 중요할 때 (빠름!)\n",
        "- 정확한 단어 의미가 덜 중요할 때\n",
        "- 예: 대규모 검색 시스템, 단순 키워드 분석"
      ],
      "metadata": {
        "id": "1lI69E2t9zsm"
      },
      "id": "1lI69E2t9zsm"
    },
    {
      "cell_type": "code",
      "execution_count": null,
      "id": "63d93dd5",
      "metadata": {
        "colab": {
          "base_uri": "https://localhost:8080/"
        },
        "id": "63d93dd5",
        "outputId": "ed2722a2-9142-411c-a11b-82fa7cacca8e",
        "collapsed": true
      },
      "outputs": [
        {
          "output_type": "stream",
          "name": "stdout",
          "text": [
            "['I', 'rented', 'I', 'AM', 'CURIOUS-YELLOW', 'from', 'my', 'video', 'store', 'because', 'of', 'all', 'the', 'controversy', 'that', 'surrounded', 'it', 'when', 'it', 'was']\n"
          ]
        },
        {
          "output_type": "execute_result",
          "data": {
            "text/plain": [
              "['i',\n",
              " 'rent',\n",
              " 'i',\n",
              " 'am',\n",
              " 'curious-yellow',\n",
              " 'from',\n",
              " 'my',\n",
              " 'video',\n",
              " 'store',\n",
              " 'becaus',\n",
              " 'of',\n",
              " 'all',\n",
              " 'the',\n",
              " 'controversi',\n",
              " 'that',\n",
              " 'surround',\n",
              " 'it',\n",
              " 'when',\n",
              " 'it',\n",
              " 'wa']"
            ]
          },
          "metadata": {},
          "execution_count": 49
        }
      ],
      "source": [
        "from nltk.stem import PorterStemmer\n",
        "stemmer = PorterStemmer()\n",
        "print(words[:20])\n",
        "\n",
        "stemmed = [stemmer.stem(word) for word in text.split()]\n",
        "stemmed[:20]"
      ]
    },
    {
      "cell_type": "markdown",
      "source": [
        "스노우볼스테머는 좀 더 성능이 좋음"
      ],
      "metadata": {
        "id": "irAqfwwc-Ai3"
      },
      "id": "irAqfwwc-Ai3"
    },
    {
      "cell_type": "code",
      "source": [
        "from nltk.stem import SnowballStemmer\n",
        "stemmer = SnowballStemmer(language='english')\n",
        "print(words[:20])\n",
        "\n",
        "stemmed = [stemmer.stem(word) for word in text.split()]\n",
        "stemmed[:20]"
      ],
      "metadata": {
        "colab": {
          "base_uri": "https://localhost:8080/"
        },
        "id": "gHH-uVQ1WmWW",
        "outputId": "da034191-e116-4b37-ece9-12a55d62929d",
        "collapsed": true
      },
      "id": "gHH-uVQ1WmWW",
      "execution_count": null,
      "outputs": [
        {
          "output_type": "stream",
          "name": "stdout",
          "text": [
            "['I', 'rented', 'I', 'AM', 'CURIOUS-YELLOW', 'from', 'my', 'video', 'store', 'because', 'of', 'all', 'the', 'controversy', 'that', 'surrounded', 'it', 'when', 'it', 'was']\n"
          ]
        },
        {
          "output_type": "execute_result",
          "data": {
            "text/plain": [
              "['i',\n",
              " 'rent',\n",
              " 'i',\n",
              " 'am',\n",
              " 'curious-yellow',\n",
              " 'from',\n",
              " 'my',\n",
              " 'video',\n",
              " 'store',\n",
              " 'becaus',\n",
              " 'of',\n",
              " 'all',\n",
              " 'the',\n",
              " 'controversi',\n",
              " 'that',\n",
              " 'surround',\n",
              " 'it',\n",
              " 'when',\n",
              " 'it',\n",
              " 'was']"
            ]
          },
          "metadata": {},
          "execution_count": 50
        }
      ]
    },
    {
      "cell_type": "markdown",
      "source": [
        "PotterStemmer는 실제 단어 형태(Lemma)를 반환하지 않음(단어 끝의 접미사만 자르는 단순 규칙)\n",
        "\n",
        "\n",
        "- 어간 추출(Stemming)은 \"단순히 줄이는 것\"이고,\n",
        "\n",
        "- **표제어 추출(Lemmatization)**은 사전에 존재하는 단어로 반환합니다."
      ],
      "metadata": {
        "id": "n_6Z41yZXD-y"
      },
      "id": "n_6Z41yZXD-y"
    },
    {
      "cell_type": "markdown",
      "source": [
        "| 방법                  | 설명                        | 모듈                          |\n",
        "| ------------------- | ------------------------- | --------------------------- |\n",
        "| **SnowballStemmer** | Porter보다 조금 더 보완된 버전      | `nltk.stem.SnowballStemmer` |\n",
        "| **Lemmatizer**      | 의미 기반, 실제 단어 반환           | `nltk.WordNetLemmatizer`    |\n",
        "| **spaCy**           | 고성능 NLP, lemmatization 포함 | `spacy` 모듈                  |\n"
      ],
      "metadata": {
        "id": "5vyqRpg2W9-l"
      },
      "id": "5vyqRpg2W9-l"
    },
    {
      "cell_type": "markdown",
      "id": "f70579a8",
      "metadata": {
        "id": "f70579a8"
      },
      "source": [
        "## 🔹 Lemmatization (표제어 추출)\n",
        "- 문맥과 품사에 따라 단어의 사전형으로 환원\n",
        "- spaCy, nltk 지원. 품사 정보가 필요함\n",
        "- Stemming보다 정확하지만 계산 비용 높음\n",
        "\n",
        "📌 예시: 'better' → 'good', 'was' → 'be'"
      ]
    },
    {
      "cell_type": "code",
      "execution_count": null,
      "id": "91be38db",
      "metadata": {
        "colab": {
          "base_uri": "https://localhost:8080/"
        },
        "id": "91be38db",
        "outputId": "eb68c5d7-8dca-4e1f-bb6f-1e83fe7f22b2"
      },
      "outputs": [
        {
          "output_type": "stream",
          "name": "stdout",
          "text": [
            "text : I rented I AM CURIOUS-YELLOW from my video store because of all the controversy that surrounded it when it was first released in 1967. I also heard that at first it was seized by U.S. customs if it ever tried to enter this country, therefore being a fan of films considered \"controversial\" I really had to see this for myself.<br /><br />The plot is centered around a young Swedish drama student named Lena who wants to learn everything she can about life. In particular she wants to focus her attentions to making some sort of documentary on what the average Swede thought about certain political issues such as the Vietnam War and race issues in the United States. In between asking politicians and ordinary denizens of Stockholm about their opinions on politics, she has sex with her drama teacher, classmates, and married men.<br /><br />What kills me about I AM CURIOUS-YELLOW is that 40 years ago, this was considered pornographic. Really, the sex and nudity scenes are few and far between, even then it's not shot like some cheaply made porno. While my countrymen mind find it shocking, in reality sex and nudity are a major staple in Swedish cinema. Even Ingmar Bergman, arguably their answer to good old boy John Ford, had sex scenes in his films.<br /><br />I do commend the filmmakers for the fact that any sex shown in the film is shown for artistic purposes rather than just to shock people and make money to be shown in pornographic theaters in America. I AM CURIOUS-YELLOW is a good film for anyone wanting to study the meat and potatoes (no pun intended) of Swedish cinema. But really, this film doesn't have much of a plot.\n",
            "doc: I rented I AM CURIOUS-YELLOW from my video store because of all the controversy that surrounded it when it was first released in 1967. I also heard that at first it was seized by U.S. customs if it ever tried to enter this country, therefore being a fan of films considered \"controversial\" I really had to see this for myself.<br /><br />The plot is centered around a young Swedish drama student named Lena who wants to learn everything she can about life. In particular she wants to focus her attentions to making some sort of documentary on what the average Swede thought about certain political issues such as the Vietnam War and race issues in the United States. In between asking politicians and ordinary denizens of Stockholm about their opinions on politics, she has sex with her drama teacher, classmates, and married men.<br /><br />What kills me about I AM CURIOUS-YELLOW is that 40 years ago, this was considered pornographic. Really, the sex and nudity scenes are few and far between, even then it's not shot like some cheaply made porno. While my countrymen mind find it shocking, in reality sex and nudity are a major staple in Swedish cinema. Even Ingmar Bergman, arguably their answer to good old boy John Ford, had sex scenes in his films.<br /><br />I do commend the filmmakers for the fact that any sex shown in the film is shown for artistic purposes rather than just to shock people and make money to be shown in pornographic theaters in America. I AM CURIOUS-YELLOW is a good film for anyone wanting to study the meat and potatoes (no pun intended) of Swedish cinema. But really, this film doesn't have much of a plot.\n",
            "lemmas: ['I', 'rent', 'I', 'be', 'CURIOUS', '-', 'yellow', 'from', 'my', 'video', 'store', 'because', 'of', 'all', 'the', 'controversy', 'that', 'surround', 'it', 'when', 'it', 'be', 'first', 'release', 'in', '1967', '.', 'I', 'also', 'hear', 'that', 'at', 'first', 'it', 'be', 'seize', 'by', 'U.S.', 'custom', 'if', 'it', 'ever', 'try', 'to', 'enter', 'this', 'country', ',', 'therefore', 'be', 'a', 'fan', 'of', 'film', 'consider', '\"', 'controversial', '\"', 'I', 'really', 'have', 'to', 'see', 'this', 'for', 'myself.<br', '/><br', '/>The', 'plot', 'be', 'center', 'around', 'a', 'young', 'swedish', 'drama', 'student', 'name', 'Lena', 'who', 'want', 'to', 'learn', 'everything', 'she', 'can', 'about', 'life', '.', 'in', 'particular', 'she', 'want', 'to', 'focus', 'her', 'attention', 'to', 'make', 'some', 'sort', 'of', 'documentary', 'on', 'what', 'the', 'average', 'Swede', 'think', 'about', 'certain', 'political', 'issue', 'such', 'as', 'the', 'Vietnam', 'War', 'and', 'race', 'issue', 'in', 'the', 'United', 'States', '.', 'in', 'between', 'ask', 'politician', 'and', 'ordinary', 'denizen', 'of', 'Stockholm', 'about', 'their', 'opinion', 'on', 'politic', ',', 'she', 'have', 'sex', 'with', 'her', 'drama', 'teacher', ',', 'classmate', ',', 'and', 'marry', 'men.<br', '/><br', '/>What', 'kill', 'I', 'about', 'I', 'be', 'CURIOUS', '-', 'YELLOW', 'be', 'that', '40', 'year', 'ago', ',', 'this', 'be', 'consider', 'pornographic', '.', 'really', ',', 'the', 'sex', 'and', 'nudity', 'scene', 'be', 'few', 'and', 'far', 'between', ',', 'even', 'then', 'it', 'be', 'not', 'shoot', 'like', 'some', 'cheaply', 'make', 'porno', '.', 'while', 'my', 'countryman', 'mind', 'find', 'it', 'shocking', ',', 'in', 'reality', 'sex', 'and', 'nudity', 'be', 'a', 'major', 'staple', 'in', 'swedish', 'cinema', '.', 'even', 'Ingmar', 'Bergman', ',', 'arguably', 'their', 'answer', 'to', 'good', 'old', 'boy', 'John', 'Ford', ',', 'have', 'sex', 'scene', 'in', 'his', 'films.<br', '/><br', '/>i', 'do', 'commend', 'the', 'filmmaker', 'for', 'the', 'fact', 'that', 'any', 'sex', 'show', 'in', 'the', 'film', 'be', 'show', 'for', 'artistic', 'purpose', 'rather', 'than', 'just', 'to', 'shock', 'people', 'and', 'make', 'money', 'to', 'be', 'show', 'in', 'pornographic', 'theater', 'in', 'America', '.', 'I', 'be', 'CURIOUS', '-', 'YELLOW', 'be', 'a', 'good', 'film', 'for', 'anyone', 'want', 'to', 'study', 'the', 'meat', 'and', 'potato', '(', 'no', 'pun', 'intend', ')', 'of', 'swedish', 'cinema', '.', 'but', 'really', ',', 'this', 'film', 'do', 'not', 'have', 'much', 'of', 'a', 'plot', '.']\n",
            "text: ['I', 'rented', 'I', 'AM', 'CURIOUS', '-', 'YELLOW', 'from', 'my', 'video', 'store', 'because', 'of', 'all', 'the', 'controversy', 'that', 'surrounded', 'it', 'when', 'it', 'was', 'first', 'released', 'in', '1967', '.', 'I', 'also', 'heard', 'that', 'at', 'first', 'it', 'was', 'seized', 'by', 'U.S.', 'customs', 'if', 'it', 'ever', 'tried', 'to', 'enter', 'this', 'country', ',', 'therefore', 'being', 'a', 'fan', 'of', 'films', 'considered', '\"', 'controversial', '\"', 'I', 'really', 'had', 'to', 'see', 'this', 'for', 'myself.<br', '/><br', '/>The', 'plot', 'is', 'centered', 'around', 'a', 'young', 'Swedish', 'drama', 'student', 'named', 'Lena', 'who', 'wants', 'to', 'learn', 'everything', 'she', 'can', 'about', 'life', '.', 'In', 'particular', 'she', 'wants', 'to', 'focus', 'her', 'attentions', 'to', 'making', 'some', 'sort', 'of', 'documentary', 'on', 'what', 'the', 'average', 'Swede', 'thought', 'about', 'certain', 'political', 'issues', 'such', 'as', 'the', 'Vietnam', 'War', 'and', 'race', 'issues', 'in', 'the', 'United', 'States', '.', 'In', 'between', 'asking', 'politicians', 'and', 'ordinary', 'denizens', 'of', 'Stockholm', 'about', 'their', 'opinions', 'on', 'politics', ',', 'she', 'has', 'sex', 'with', 'her', 'drama', 'teacher', ',', 'classmates', ',', 'and', 'married', 'men.<br', '/><br', '/>What', 'kills', 'me', 'about', 'I', 'AM', 'CURIOUS', '-', 'YELLOW', 'is', 'that', '40', 'years', 'ago', ',', 'this', 'was', 'considered', 'pornographic', '.', 'Really', ',', 'the', 'sex', 'and', 'nudity', 'scenes', 'are', 'few', 'and', 'far', 'between', ',', 'even', 'then', 'it', \"'s\", 'not', 'shot', 'like', 'some', 'cheaply', 'made', 'porno', '.', 'While', 'my', 'countrymen', 'mind', 'find', 'it', 'shocking', ',', 'in', 'reality', 'sex', 'and', 'nudity', 'are', 'a', 'major', 'staple', 'in', 'Swedish', 'cinema', '.', 'Even', 'Ingmar', 'Bergman', ',', 'arguably', 'their', 'answer', 'to', 'good', 'old', 'boy', 'John', 'Ford', ',', 'had', 'sex', 'scenes', 'in', 'his', 'films.<br', '/><br', '/>I', 'do', 'commend', 'the', 'filmmakers', 'for', 'the', 'fact', 'that', 'any', 'sex', 'shown', 'in', 'the', 'film', 'is', 'shown', 'for', 'artistic', 'purposes', 'rather', 'than', 'just', 'to', 'shock', 'people', 'and', 'make', 'money', 'to', 'be', 'shown', 'in', 'pornographic', 'theaters', 'in', 'America', '.', 'I', 'AM', 'CURIOUS', '-', 'YELLOW', 'is', 'a', 'good', 'film', 'for', 'anyone', 'wanting', 'to', 'study', 'the', 'meat', 'and', 'potatoes', '(', 'no', 'pun', 'intended', ')', 'of', 'Swedish', 'cinema', '.', 'But', 'really', ',', 'this', 'film', 'does', \"n't\", 'have', 'much', 'of', 'a', 'plot', '.']\n"
          ]
        }
      ],
      "source": [
        "import spacy\n",
        "nlp = spacy.load(\"en_core_web_sm\") #소형 영어 모델 로드\n",
        "print('text :', text)\n",
        "\n",
        "#nlp()는 텍스트를 토큰화 + 품사 태깅 + 의존구조 분석 + 표제어 추출까지 자동 처리\n",
        "doc = nlp(text)\n",
        "print('doc:', doc)\n",
        "\n",
        "#token.lemma_ → 그 단어의 표제어(기본형)\n",
        "lemmas = [token.lemma_ for token in doc]\n",
        "print('lemmas:', lemmas)\n",
        "\n",
        "#token.text → 원래 단어\n",
        "texts = [token.text for token in doc]\n",
        "print('text:' ,texts)\n"
      ]
    },
    {
      "cell_type": "markdown",
      "source": [
        "is -> be\n",
        "\n",
        "considered -> consider\n",
        "\n",
        "\n",
        "이런식으로 다르게 표기되고 있는 것을 확인할 수 있다."
      ],
      "metadata": {
        "id": "ep47CPeSaDq1"
      },
      "id": "ep47CPeSaDq1"
    },
    {
      "cell_type": "markdown",
      "id": "9d65e61d",
      "metadata": {
        "id": "9d65e61d"
      },
      "source": [
        "## 🔹 정규화 - 날짜 및 숫자 처리\n",
        "- 날짜 형식 표준화: Jan 20th → 2023-01-20\n",
        "- 숫자 통일: 5k → 5000, 1M → 1000000\n",
        "- 금액/단위/소수점 변환도 포함됨\n",
        "\n",
        "📌 예시: '5k followers' → '5000 followers'"
      ]
    },
    {
      "cell_type": "code",
      "execution_count": null,
      "id": "3d9c4208",
      "metadata": {
        "colab": {
          "base_uri": "https://localhost:8080/",
          "height": 35
        },
        "id": "3d9c4208",
        "outputId": "4f450fc8-a22c-43e0-c2f6-fd5448637cb7"
      },
      "outputs": [
        {
          "output_type": "execute_result",
          "data": {
            "text/plain": [
              "'She earned 5000.'"
            ],
            "application/vnd.google.colaboratory.intrinsic+json": {
              "type": "string"
            }
          },
          "metadata": {},
          "execution_count": 52
        }
      ],
      "source": [
        "re.sub(r'\\b(\\d+)k\\b', lambda m: str(int(m.group(1)) * 1000), 'She earned 5k.')"
      ]
    },
    {
      "cell_type": "markdown",
      "source": [
        "사용자가 답변 받았을때 거부감이 없어야함"
      ],
      "metadata": {
        "id": "7l9bkH9h-vo-"
      },
      "id": "7l9bkH9h-vo-"
    },
    {
      "cell_type": "markdown",
      "id": "1bf82938",
      "metadata": {
        "id": "1bf82938"
      },
      "source": [
        "## 🔹 이모지 제거\n",
        "- 모델 학습 시 방해가 되는 비언어적 심볼 제거\n",
        "- 특히 뉴스, 법률 등 포멀 데이터에서는 반드시 제거\n",
        "- emoji 패키지 사용\n",
        "\n",
        "📌 예시: 'I love this! 😍😍' → 'I love this! '"
      ]
    },
    {
      "cell_type": "code",
      "source": [
        "!pip install -q emoji"
      ],
      "metadata": {
        "id": "pZyO-KpfXHQS"
      },
      "id": "pZyO-KpfXHQS",
      "execution_count": null,
      "outputs": []
    },
    {
      "cell_type": "code",
      "execution_count": null,
      "id": "e13cb356",
      "metadata": {
        "colab": {
          "base_uri": "https://localhost:8080/",
          "height": 236
        },
        "id": "e13cb356",
        "outputId": "4e29b6db-4b0f-4602-9063-4ef52e5a1814"
      },
      "outputs": [
        {
          "output_type": "execute_result",
          "data": {
            "text/plain": [
              "\"I rented I AM CURIOUS-YELLOW  from my video store because of all the controversy  that surrounded it when it was first released in 1967. I also heard that at first it was seized by U.S. customs  if it ever tried to enter this country, therefore being a fan of films considered 'controversial'  I really had to see this for myself.\\n\\nThe plot is centered around a young Swedish drama student named Lena  who wants to learn everything she can about life . In particular, she wants to focus her attentions on making some sort of documentary on what the average Swede thought about certain political issues such as the Vietnam War  and race issues in the United States . In between asking politicians and ordinary denizens of Stockholm about their opinions on politics, she has sex with her drama teacher, classmates, and married men .\\n\\nWhat kills me about I AM CURIOUS-YELLOW is that 40 years ago, this was considered pornographic . Really, the sex and nudity scenes are few and far between, even then it's not shot like some cheaply made porno . While my countrymen might find it shocking , in reality sex and nudity are a major staple in Swedish cinema . Even Ingmar Bergman, arguably their answer to good old boy John Ford, had sex scenes in his films .\\n\\nI do commend  the filmmakers for the fact that any sex shown in the film is shown for artistic purposes  rather than just to shock people and make money  to be shown in pornographic theaters in America. *I AM CURIOUS-YELLOW* is a good film for anyone wanting to study the meat and potatoes  (no pun intended) of Swedish cinema. But really, this film doesn’t have much of a plot .\""
            ],
            "application/vnd.google.colaboratory.intrinsic+json": {
              "type": "string"
            }
          },
          "metadata": {},
          "execution_count": 54
        }
      ],
      "source": [
        "import emoji\n",
        "emoji_text=\"\"\"I rented I AM CURIOUS-YELLOW 🎬 from my video store because of all the controversy ⚠️ that surrounded it when it was first released in 1967. I also heard that at first it was seized by U.S. customs 🛃 if it ever tried to enter this country, therefore being a fan of films considered 'controversial' 😏 I really had to see this for myself.\n",
        "\n",
        "The plot is centered around a young Swedish drama student named Lena 🎭 who wants to learn everything she can about life 🌍. In particular, she wants to focus her attentions on making some sort of documentary on what the average Swede thought about certain political issues such as the Vietnam War 🪖 and race issues in the United States 🇺🇸. In between asking politicians and ordinary denizens of Stockholm about their opinions on politics, she has sex with her drama teacher, classmates, and married men 🔥.\n",
        "\n",
        "What kills me about I AM CURIOUS-YELLOW is that 40 years ago, this was considered pornographic 😲. Really, the sex and nudity scenes are few and far between, even then it's not shot like some cheaply made porno 🎞️. While my countrymen might find it shocking 😳, in reality sex and nudity are a major staple in Swedish cinema 🇸🇪. Even Ingmar Bergman, arguably their answer to good old boy John Ford, had sex scenes in his films 🎥.\n",
        "\n",
        "I do commend 👏 the filmmakers for the fact that any sex shown in the film is shown for artistic purposes 🎨 rather than just to shock people and make money 💸 to be shown in pornographic theaters in America. *I AM CURIOUS-YELLOW* is a good film for anyone wanting to study the meat and potatoes 🍖🥔 (no pun intended) of Swedish cinema. But really, this film doesn’t have much of a plot 📄.\"\"\"\n",
        "cleaned = emoji.replace_emoji(emoji_text, replace='')\n",
        "cleaned"
      ]
    },
    {
      "cell_type": "markdown",
      "id": "ae87b8ed",
      "metadata": {
        "id": "ae87b8ed"
      },
      "source": [
        "## 🔹 이모지 → 단어 치환\n",
        "- 감정 분석 등에서 이모지를 단어로 변환하여 정보 보존\n",
        "- emoji.demojize 사용 시 텍스트화 가능\n",
        "- 예: 😂 → :face_with_tears_of_joy:\n",
        "\n",
        "📌 예시: 'I ❤️ NLP!' → 'I :red_heart: NLP!'"
      ]
    },
    {
      "cell_type": "code",
      "execution_count": null,
      "id": "ca975801",
      "metadata": {
        "colab": {
          "base_uri": "https://localhost:8080/",
          "height": 35
        },
        "id": "ca975801",
        "outputId": "55316ad4-45ad-43de-c6ee-d52b23667c8c"
      },
      "outputs": [
        {
          "output_type": "execute_result",
          "data": {
            "text/plain": [
              "'I :red_heart: NLP!'"
            ],
            "application/vnd.google.colaboratory.intrinsic+json": {
              "type": "string"
            }
          },
          "metadata": {},
          "execution_count": 55
        }
      ],
      "source": [
        "emoji.demojize(\"I ❤️ NLP!\")"
      ]
    },
    {
      "cell_type": "markdown",
      "id": "7b15a380",
      "metadata": {
        "id": "7b15a380"
      },
      "source": [
        "## 🔹 URL 제거\n",
        "- 웹에서 수집한 텍스트에는 종종 광고/출처 링크 포함됨\n",
        "- URL은 대부분 의미 없는 노이즈로 간주됨\n",
        "- 정규식을 사용해 제거 가능\n",
        "\n",
        "📌 예시: 'Visit http://example.com now' → 'Visit now'"
      ]
    },
    {
      "cell_type": "code",
      "execution_count": null,
      "id": "8be48ac7",
      "metadata": {
        "colab": {
          "base_uri": "https://localhost:8080/",
          "height": 54
        },
        "id": "8be48ac7",
        "outputId": "eaeb1ec7-22c2-4394-af1f-ea2a986c1962"
      },
      "outputs": [
        {
          "output_type": "execute_result",
          "data": {
            "text/plain": [
              "\"\\nCheck out our website at  for more details.\\nYou can also visit our blog at \\nDon't forget to look at  for additional resources!\\n\""
            ],
            "application/vnd.google.colaboratory.intrinsic+json": {
              "type": "string"
            }
          },
          "metadata": {},
          "execution_count": 56
        }
      ],
      "source": [
        "import re\n",
        "text = \"\"\"\n",
        "Check out our website at http://example.com for more details.\n",
        "You can also visit our blog at https://blog.example.com/articles?id=123.\n",
        "Don't forget to look at www.example.org for additional resources!\n",
        "\"\"\"\n",
        "cleaned = re.sub(r\"http\\S+|www\\.\\S+\", \"\", text)\n",
        "cleaned"
      ]
    },
    {
      "cell_type": "markdown",
      "id": "c8be434e",
      "metadata": {
        "id": "c8be434e"
      },
      "source": [
        "## 🔹 HTML 태그 제거\n",
        "- 크롤링된 뉴스, 블로그 글에 HTML이 포함될 수 있음\n",
        "- 텍스트 외 정보(<div>, <a>)는 제거 대상\n",
        "- BeautifulSoup 활용 가능\n",
        "\n",
        "📌 예시: '<p>Hello</p>' → 'Hello'"
      ]
    },
    {
      "cell_type": "code",
      "execution_count": null,
      "id": "974b7103",
      "metadata": {
        "colab": {
          "base_uri": "https://localhost:8080/",
          "height": 54
        },
        "id": "974b7103",
        "outputId": "42b56a0d-4d58-4d03-dcb3-27cd45e2fd56"
      },
      "outputs": [
        {
          "output_type": "execute_result",
          "data": {
            "text/plain": [
              "'\\n\\nExample Page\\n\\nWelcome to My Website\\nThis is a sample paragraph with a link.\\n\\nItem 1\\nItem 2\\n\\n\\n\\n'"
            ],
            "application/vnd.google.colaboratory.intrinsic+json": {
              "type": "string"
            }
          },
          "metadata": {},
          "execution_count": 57
        }
      ],
      "source": [
        "from bs4 import BeautifulSoup\n",
        "text = \"\"\"\n",
        "<html>\n",
        "  <head><title>Example Page</title></head>\n",
        "  <body>\n",
        "    <h1>Welcome to My Website</h1>\n",
        "    <p>This is a <b>sample</b> paragraph with <a href=\"https://example.com\">a link</a>.</p>\n",
        "    <ul>\n",
        "      <li>Item 1</li>\n",
        "      <li>Item 2</li>\n",
        "    </ul>\n",
        "  </body>\n",
        "</html>\n",
        "\"\"\"\n",
        "cleaned = BeautifulSoup(text, \"html.parser\").get_text()\n",
        "cleaned"
      ]
    },
    {
      "cell_type": "markdown",
      "id": "bceeb49b",
      "metadata": {
        "id": "bceeb49b"
      },
      "source": [
        "## 🔹 채팅체 정규화\n",
        "- SNS/메신저 특유의 줄임말, 비표준어를 정제\n",
        "- 예: 'u r' → 'you are', 'idk' → 'I don't know'\n",
        "- 사전 기반 또는 정규표현식 기반으로 처리\n",
        "\n",
        "📌 예시: 'u r awesome idk why' → 'you are awesome I don't know why'"
      ]
    },
    {
      "cell_type": "code",
      "execution_count": null,
      "id": "04350974",
      "metadata": {
        "colab": {
          "base_uri": "https://localhost:8080/",
          "height": 35
        },
        "id": "04350974",
        "outputId": "1d2a1d2a-9987-4053-87a4-a01ed0e4ce3d"
      },
      "outputs": [
        {
          "output_type": "execute_result",
          "data": {
            "text/plain": [
              "\"I don't know what you are doing\""
            ],
            "application/vnd.google.colaboratory.intrinsic+json": {
              "type": "string"
            }
          },
          "metadata": {},
          "execution_count": 58
        }
      ],
      "source": [
        "chat_dict = {'u': 'you', 'r': 'are', 'idk': \"I don't know\"}\n",
        "text = 'idk what u r doing'\n",
        "' '.join([chat_dict.get(w, w) for w in text.split()])"
      ]
    },
    {
      "cell_type": "markdown",
      "id": "b565dfd4",
      "metadata": {
        "id": "b565dfd4"
      },
      "source": [
        "## 🔹 맞춤법 교정\n",
        "- 타이핑 실수, 오타 자동 수정\n",
        "- 감정 분석 등에서 의미 왜곡 방지\n",
        "- PySpellChecker, GingerIt 등 사용\n",
        "\n",
        "📌 예시: 'recieve' → 'receive'"
      ]
    },
    {
      "cell_type": "code",
      "source": [
        "!pip install pyspellchecker"
      ],
      "metadata": {
        "colab": {
          "base_uri": "https://localhost:8080/"
        },
        "id": "VwThHjlsmnKl",
        "outputId": "7b2a4954-1730-4080-b151-ef56897cc625"
      },
      "id": "VwThHjlsmnKl",
      "execution_count": null,
      "outputs": [
        {
          "output_type": "stream",
          "name": "stdout",
          "text": [
            "Requirement already satisfied: pyspellchecker in /usr/local/lib/python3.11/dist-packages (0.8.3)\n"
          ]
        }
      ]
    },
    {
      "cell_type": "code",
      "execution_count": null,
      "id": "334e049c",
      "metadata": {
        "colab": {
          "base_uri": "https://localhost:8080/"
        },
        "id": "334e049c",
        "outputId": "d75d425d-95a5-4c97-8e5a-cbd7afa7aa45"
      },
      "outputs": [
        {
          "output_type": "execute_result",
          "data": {
            "text/plain": [
              "['ink', 'what', 'u', 'r', 'doing']"
            ]
          },
          "metadata": {},
          "execution_count": 60
        }
      ],
      "source": [
        "from spellchecker import SpellChecker\n",
        "\n",
        "spell = SpellChecker()\n",
        "def correct_spellings(text):\n",
        "    corrected_text = []\n",
        "    misspelled_words = spell.unknown(text.split())  #사전에 없는 단어(오타)를 반환\n",
        "    for word in text.split():\n",
        "        if word in misspelled_words:\n",
        "            corrected_text.append(spell.correction(word)) #오타인 단어를 올바른 단어로 반\n",
        "        else:\n",
        "            corrected_text.append(word)\n",
        "    return \" \".join(corrected_text)\n",
        "\n",
        "\n",
        "corrected = [correct_spellings(word) for word in text.split()]\n",
        "corrected[:10]\n"
      ]
    },
    {
      "cell_type": "markdown",
      "source": [
        "단 spell.correction 함수는 줄임말(idk, u, r)이나 신조어를 무조건 정식 단어로 바꿔버리는 경향이 있음\n",
        "\n",
        "예: u → up\n",
        "\n",
        "예: idk → ilk 또는 ink (엉뚱할 수 있음)\n",
        "\n",
        "그래서 이런 경우에는 chat_dict처럼 명시적인 딕셔너리 매핑 방식으로 먼저 변환하는 것이 좋음"
      ],
      "metadata": {
        "id": "FUdpMTu-igf3"
      },
      "id": "FUdpMTu-igf3"
    },
    {
      "cell_type": "markdown",
      "id": "f3686e17",
      "metadata": {
        "id": "f3686e17"
      },
      "source": [
        "## 🔹 축약어 확장\n",
        "- don’t → do not, I’ll → I will\n",
        "- 감정/문법 보존을 위해 확장 중요\n",
        "- contractions 라이브러리 활용\n",
        "\n",
        "📌 예시: 'I can't' → 'I cannot'"
      ]
    },
    {
      "cell_type": "code",
      "source": [
        "!pip install -q contractions"
      ],
      "metadata": {
        "id": "wA99DhqBn0xY"
      },
      "id": "wA99DhqBn0xY",
      "execution_count": null,
      "outputs": []
    },
    {
      "cell_type": "code",
      "execution_count": null,
      "id": "24d2481c",
      "metadata": {
        "colab": {
          "base_uri": "https://localhost:8080/",
          "height": 35
        },
        "id": "24d2481c",
        "outputId": "9c535e69-a361-491c-a2b7-5abb2610ad39"
      },
      "outputs": [
        {
          "output_type": "execute_result",
          "data": {
            "text/plain": [
              "'I cannot do this.'"
            ],
            "application/vnd.google.colaboratory.intrinsic+json": {
              "type": "string"
            }
          },
          "metadata": {},
          "execution_count": 3
        }
      ],
      "source": [
        "import contractions\n",
        "expanded = contractions.fix(\"I can't do this.\")\n",
        "expanded"
      ]
    },
    {
      "cell_type": "markdown",
      "id": "bb4f4959",
      "metadata": {
        "id": "bb4f4959"
      },
      "source": [
        "## 🔹 숫자 → 텍스트 / 제거\n",
        "문장을 자연스럽게 만드는 역할이라고 보면 좋음\n",
        "- TTS, 요약, 번역 등에서는 숫자를 단어로 바꾸기도 함\n",
        "- 예: '100%' → 'one hundred percent'\n",
        "- 또는 숫자 자체를 제거하기도 함\n",
        "\n",
        "📌 예시: '100%' → 'one hundred percent'"
      ]
    },
    {
      "cell_type": "code",
      "source": [
        "!pip install -q inflect"
      ],
      "metadata": {
        "id": "QpcfTBEUn3x6"
      },
      "id": "QpcfTBEUn3x6",
      "execution_count": null,
      "outputs": []
    },
    {
      "cell_type": "code",
      "source": [
        "#사용 예시\n",
        "p = inflect.engine()\n",
        "print('number:', p.number_to_words(123))\n",
        "print('복수형은:', p.plural('child'))\n",
        "# 단어 앞에 a/an 자동 붙이기\n",
        "print(p.a('apple'))\n",
        "print(p.a('banana'))\n",
        "# 복수/단수 자동 조절\n",
        "print(p.plural_noun('cat', 1))  # → 'cat'\n",
        "print(p.plural_noun('cat', 3))  # → 'cats'"
      ],
      "metadata": {
        "colab": {
          "base_uri": "https://localhost:8080/"
        },
        "id": "FTbmf3auCCd1",
        "outputId": "9185b965-becf-4083-d11a-5e599c28d0c8"
      },
      "id": "FTbmf3auCCd1",
      "execution_count": null,
      "outputs": [
        {
          "output_type": "stream",
          "name": "stdout",
          "text": [
            "number: one hundred and twenty-three\n",
            "복수형은: children\n",
            "an apple\n",
            "a banana\n",
            "cat\n",
            "cats\n"
          ]
        }
      ]
    },
    {
      "cell_type": "code",
      "execution_count": null,
      "id": "6048dde4",
      "metadata": {
        "colab": {
          "base_uri": "https://localhost:8080/",
          "height": 35
        },
        "id": "6048dde4",
        "outputId": "2671c6ed-225f-49a2-e6a2-0679bfcfec1c"
      },
      "outputs": [
        {
          "output_type": "execute_result",
          "data": {
            "text/plain": [
              "'one hundred'"
            ],
            "application/vnd.google.colaboratory.intrinsic+json": {
              "type": "string"
            }
          },
          "metadata": {},
          "execution_count": 7
        }
      ],
      "source": [
        "import inflect\n",
        "p = inflect.engine()\n",
        "p.number_to_words(100)"
      ]
    },
    {
      "cell_type": "markdown",
      "id": "08a561c5",
      "metadata": {
        "id": "08a561c5"
      },
      "source": [
        "## 🔹 대화체 및 말버릇 제거\n",
        "- 온라인 댓글이나 SNS 텍스트에서 자주 등장하는 반복어, 감탄사 등 제거\n",
        "- 예: 'ㅋㅋㅋ', '헐', 'OMG', 'Wow' 등\n",
        "- 자연어 이해를 방해하거나 잡음이 될 수 있음\n",
        "\n",
        "📌 예시: '헐ㅋㅋㅋ 진짜요??ㅋㅋ' → '헐 진짜요??'"
      ]
    },
    {
      "cell_type": "code",
      "execution_count": null,
      "id": "75394017",
      "metadata": {
        "colab": {
          "base_uri": "https://localhost:8080/",
          "height": 35
        },
        "id": "75394017",
        "outputId": "23bd03bf-e907-4951-d6aa-edf28ec1cbee"
      },
      "outputs": [
        {
          "output_type": "execute_result",
          "data": {
            "text/plain": [
              "'idk what u r doing'"
            ],
            "application/vnd.google.colaboratory.intrinsic+json": {
              "type": "string"
            }
          },
          "metadata": {},
          "execution_count": 65
        }
      ],
      "source": [
        "import re\n",
        "re.sub(r'(ㅋ|ㅎ|ㅠ|ㅜ){2,}', '', text) #이 문자들이 2번 이상 반복되는 경우에 해"
      ]
    },
    {
      "cell_type": "markdown",
      "id": "301ce9a2",
      "metadata": {
        "id": "301ce9a2"
      },
      "source": [
        "## 🔹 정규표현식 패턴 정리\n",
        "- 날짜: '\\d{4}-\\d{2}-\\d{2}' 또는 'Jan \\d{1,2}, \\d{4}'\n",
        "- 이메일: '\\b[\\w.-]+@[\\w.-]+\\.\\w+\\b'\n",
        "- URL: 'http[s]?://\\S+'\n",
        "- 숫자: '\\b\\d+\\b' / 통화: '\\$\\d+(\\.\\d+)?'\n",
        "\n",
        "📌 예시: 정규식 사전 구축 → 텍스트에서 다양한 패턴 추출 및 제거 자동화"
      ]
    },
    {
      "cell_type": "markdown",
      "id": "0edfd26c",
      "metadata": {
        "id": "0edfd26c"
      },
      "source": [
        "## 🔹 spaCy 기반 통합 정제\n",
        "- spaCy로 불용어 제거, 표제어 추출, 알파벳 필터링을 한 번에 수행\n",
        "- 영어 기준의 대표적 전처리 워크플로우 구성\n",
        "- 모델: en_core_web_sm 등\n",
        "\n",
        "📌 예시: 'He was running quickly.' → 'run quickly'"
      ]
    },
    {
      "cell_type": "code",
      "execution_count": null,
      "id": "925ac5fa",
      "metadata": {
        "colab": {
          "base_uri": "https://localhost:8080/",
          "height": 237
        },
        "id": "925ac5fa",
        "outputId": "22094479-056d-4ad8-8623-9055ad5e232e"
      },
      "outputs": [
        {
          "output_type": "error",
          "ename": "NameError",
          "evalue": "name 'text' is not defined",
          "traceback": [
            "\u001b[0;31m---------------------------------------------------------------------------\u001b[0m",
            "\u001b[0;31mNameError\u001b[0m                                 Traceback (most recent call last)",
            "\u001b[0;32m/tmp/ipython-input-11-984316890.py\u001b[0m in \u001b[0;36m<cell line: 0>\u001b[0;34m()\u001b[0m\n\u001b[1;32m      1\u001b[0m \u001b[0;32mimport\u001b[0m \u001b[0mspacy\u001b[0m\u001b[0;34m\u001b[0m\u001b[0;34m\u001b[0m\u001b[0m\n\u001b[1;32m      2\u001b[0m \u001b[0mnlp\u001b[0m \u001b[0;34m=\u001b[0m \u001b[0mspacy\u001b[0m\u001b[0;34m.\u001b[0m\u001b[0mload\u001b[0m\u001b[0;34m(\u001b[0m\u001b[0;34m\"en_core_web_sm\"\u001b[0m\u001b[0;34m)\u001b[0m\u001b[0;34m\u001b[0m\u001b[0;34m\u001b[0m\u001b[0m\n\u001b[0;32m----> 3\u001b[0;31m \u001b[0mdoc\u001b[0m \u001b[0;34m=\u001b[0m \u001b[0mnlp\u001b[0m\u001b[0;34m(\u001b[0m\u001b[0mtext\u001b[0m\u001b[0;34m)\u001b[0m\u001b[0;34m\u001b[0m\u001b[0;34m\u001b[0m\u001b[0m\n\u001b[0m\u001b[1;32m      4\u001b[0m \u001b[0mcleaned\u001b[0m \u001b[0;34m=\u001b[0m \u001b[0;34m\" \"\u001b[0m\u001b[0;34m.\u001b[0m\u001b[0mjoin\u001b[0m\u001b[0;34m(\u001b[0m\u001b[0;34m[\u001b[0m\u001b[0mtoken\u001b[0m\u001b[0;34m.\u001b[0m\u001b[0mlemma_\u001b[0m \u001b[0;32mfor\u001b[0m \u001b[0mtoken\u001b[0m \u001b[0;32min\u001b[0m \u001b[0mdoc\u001b[0m \u001b[0;32mif\u001b[0m \u001b[0;32mnot\u001b[0m \u001b[0mtoken\u001b[0m\u001b[0;34m.\u001b[0m\u001b[0mis_stop\u001b[0m \u001b[0;32mand\u001b[0m \u001b[0mtoken\u001b[0m\u001b[0;34m.\u001b[0m\u001b[0mis_alpha\u001b[0m\u001b[0;34m]\u001b[0m\u001b[0;34m)\u001b[0m\u001b[0;34m\u001b[0m\u001b[0;34m\u001b[0m\u001b[0m\n\u001b[1;32m      5\u001b[0m \u001b[0mcleaned\u001b[0m\u001b[0;34m[\u001b[0m\u001b[0;34m:\u001b[0m\u001b[0;36m20\u001b[0m\u001b[0;34m]\u001b[0m\u001b[0;34m\u001b[0m\u001b[0;34m\u001b[0m\u001b[0m\n",
            "\u001b[0;31mNameError\u001b[0m: name 'text' is not defined"
          ]
        }
      ],
      "source": [
        "import spacy\n",
        "nlp = spacy.load(\"en_core_web_sm\")\n",
        "doc = nlp(text)\n",
        "cleanedx = \" \".join([token.lemma_ for token in doc if not token.is_stop and token.is_alpha])\n",
        "cleaned[:20]"
      ]
    },
    {
      "cell_type": "markdown",
      "id": "f9c5d5e9",
      "metadata": {
        "id": "f9c5d5e9"
      },
      "source": [
        "## 🔹 도메인별 전처리: 감성 분석\n",
        "- 긍정/부정 판단 시 부정어, 이모티콘, 느낌표 등 보존 필요\n",
        "- 중복 문자 강조 ('좋아아아아')는 적절히 축약\n",
        "- 이모지 → 단어로 변환 후 보존 가능\n",
        "\n",
        "📌 예시: '진짜 좋아아아아!!!😍' → '진짜 좋아!!! :smiling_face_with_heart_eyes:'"
      ]
    },
    {
      "cell_type": "markdown",
      "id": "166fe968",
      "metadata": {
        "id": "166fe968"
      },
      "source": [
        "## 🔹 도메인별 전처리: 뉴스 텍스트\n",
        "- 기자명, 날짜, 출처 제거 / 문단 구분 유지\n",
        "- 고유명사 및 수치 표현은 보존\n",
        "- 표제어화는 선택적으로 적용\n",
        "\n",
        "📌 예시: ‘[서울=뉴스1] 홍길동 기자 = ...’ → ‘...’"
      ]
    },
    {
      "cell_type": "markdown",
      "id": "778215df",
      "metadata": {
        "id": "778215df"
      },
      "source": [
        "## 🔹 도메인별 전처리: 트위터 데이터\n",
        "- 멘션(@user), 해시태그(#topic), 줄임말(idk, brb) 처리\n",
        "- RT 제거, 이모지 치환, URL 제거\n",
        "- Twint 등으로 수집된 트윗 대상\n",
        "\n",
        "📌 예시: 'RT @user: I love this! #NLP http://t.co/abc' → 'I love this!'"
      ]
    },
    {
      "cell_type": "code",
      "execution_count": null,
      "id": "fddd877c",
      "metadata": {
        "colab": {
          "base_uri": "https://localhost:8080/",
          "height": 54
        },
        "id": "fddd877c",
        "outputId": "4c114492-6c52-4238-f0e2-f43a0655ebb3"
      },
      "outputs": [
        {
          "output_type": "execute_result",
          "data": {
            "text/plain": [
              "\"\\n : Check out the new features in our product!   \\nGreat job team!  Let's keep pushing forward. \\nVisit our homepage: \\n\""
            ],
            "application/vnd.google.colaboratory.intrinsic+json": {
              "type": "string"
            }
          },
          "metadata": {},
          "execution_count": 67
        }
      ],
      "source": [
        "text = \"\"\"\n",
        "RT @user1: Check out the new features in our product! #AI #innovation http://example.com\n",
        "Great job team! @dev_team Let's keep pushing forward. #motivation\n",
        "Visit our homepage: https://company.org/about\n",
        "\"\"\"\n",
        "re.sub(r'@\\w+|#\\w+|RT|http\\S+', '', text)"
      ]
    },
    {
      "cell_type": "markdown",
      "id": "ca7a6fe3",
      "metadata": {
        "id": "ca7a6fe3"
      },
      "source": [
        "## 🔹 도메인별 전처리: 법률 문서\n",
        "- 법령명, 조항번호 등 고유 용어는 보존해야 함\n",
        "- 공백, 줄바꿈 정리 및 목차/판례번호 제거\n",
        "- 주로 CaseLaw, LEGISLAText 데이터셋 활용\n",
        "\n",
        "📌 예시: '제1조(목적) 이 법은...' → '이 법은...'"
      ]
    },
    {
      "cell_type": "markdown",
      "id": "0cd43b6e",
      "metadata": {
        "id": "0cd43b6e"
      },
      "source": [
        "## 🔹 도메인별 전처리: 의료 데이터\n",
        "- 환자 이름, 병원명, 날짜 등 PHI 정보 제거\n",
        "- 의학용어는 일반 사전으로 대체하지 않음 (보존)\n",
        "- MIMIC-III, PubMed 데이터셋 사용\n",
        "\n",
        "📌 예시: 'Patient: John Doe' → ''"
      ]
    },
    {
      "cell_type": "code",
      "execution_count": null,
      "id": "0ef22ece",
      "metadata": {
        "colab": {
          "base_uri": "https://localhost:8080/"
        },
        "id": "0ef22ece",
        "outputId": "58233744-e8d1-4a20-9467-841e1f3a4790"
      },
      "outputs": [
        {
          "output_type": "stream",
          "name": "stdout",
          "text": [
            "\n",
            "\n",
            "\n",
            "\n",
            "\n",
            "\n",
            "Chief Complaint: Persistent cough and shortness of breath.\n",
            "Diagnosis: Acute bronchitis\n",
            "Medication: Amoxicillin 500mg, three times a day\n",
            "Notes: Patient reports symptoms worsening over 5 days.\n",
            "\n"
          ]
        }
      ],
      "source": [
        "import re\n",
        "text = \"\"\"\n",
        "Name: John Doe\n",
        "Patient: Jane Smith\n",
        "Hospital: Seoul Medical Center\n",
        "Date: 2023-10-15\n",
        "\n",
        "Chief Complaint: Persistent cough and shortness of breath.\n",
        "Diagnosis: Acute bronchitis\n",
        "Medication: Amoxicillin 500mg, three times a day\n",
        "Notes: Patient reports symptoms worsening over 5 days.\n",
        "\"\"\"\n",
        "text = re.sub(r'(Name:|Patient:|Hospital:|Date:).*', '', text)\n",
        "print(text)"
      ]
    },
    {
      "cell_type": "markdown",
      "id": "92097343",
      "metadata": {
        "id": "92097343"
      },
      "source": [
        "## 🔹 사용자 정의 전처리 파이프라인 구성\n",
        "- 여러 전처리 함수를 하나의 파이프라인으로 연결\n",
        "- 단계별로 함수화하여 재사용 가능\n",
        "- 함수 체이닝, 람다 파이프 활용\n",
        "\n",
        "📌 예시: 'I LOVE it!!! http://abc.com' → 'i love it'"
      ]
    },
    {
      "cell_type": "code",
      "execution_count": null,
      "id": "4e741393",
      "metadata": {
        "id": "4e741393"
      },
      "outputs": [],
      "source": [
        "def clean_pipeline(text):\n",
        "    text = text.lower()\n",
        "    text = re.sub(r\"http\\S+\", \"\", text)\n",
        "    text = re.sub(r\"[^\\w\\s]\", \"\", text)\n",
        "    return text"
      ]
    },
    {
      "cell_type": "markdown",
      "id": "74b3bc3c",
      "metadata": {
        "id": "74b3bc3c"
      },
      "source": [
        "## 🔹 전체 전처리 예시 실행 (IMDB)\n",
        "- IMDB 데이터셋 텍스트에 대해 단계별로 전처리 적용\n",
        "- 전처리 전 vs 후 비교표 생성\n",
        "- 토큰 수 변화, 단어 구름 시각화 포함\n",
        "\n",
        "📌 예시: 전처리 전: 350 tokens → 전처리 후: 212 tokens (불용어 제거, 표제어화 적용)"
      ]
    },
    {
      "cell_type": "markdown",
      "id": "417b29b6",
      "metadata": {
        "id": "417b29b6"
      },
      "source": [
        "## 🔹 전처리 성능 평가\n",
        "- 모델 성능 비교 (전처리 전 vs 후)\n",
        "- 지표: Accuracy, F1, BLEU 등\n",
        "- 전처리별 기여도 분석 가능\n",
        "\n",
        "📌 예시: 텍스트 분류 정확도: 전처리 전 82% → 전처리 후 88%"
      ]
    },
    {
      "cell_type": "markdown",
      "id": "2286af40",
      "metadata": {
        "id": "2286af40"
      },
      "source": [
        "## 🔹 결론 및 팁 정리\n",
        "- 전처리는 도메인에 따라 맞춤화 필요\n",
        "- 과도한 정제는 의미 손실 → 균형 중요\n",
        "- 전처리 자동화 파이프라인 설계 추천\n",
        "- 활용할만한 오픈소스 도구 정리\n",
        "\n",
        "📌 예시: - Huggingface Datasets, spaCy, NLTK, emoji, contractions, BeautifulSoup 등"
      ]
    }
  ],
  "metadata": {
    "language": "python",
    "colab": {
      "provenance": [],
      "include_colab_link": true
    },
    "language_info": {
      "name": "python"
    },
    "kernelspec": {
      "name": "python3",
      "display_name": "Python 3"
    }
  },
  "nbformat": 4,
  "nbformat_minor": 5
}